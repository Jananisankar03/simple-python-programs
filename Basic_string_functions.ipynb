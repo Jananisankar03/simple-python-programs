{
 "cells": [
  {
   "cell_type": "code",
   "execution_count": 1,
   "id": "ca581d99",
   "metadata": {},
   "outputs": [
    {
     "name": "stdout",
     "output_type": "stream",
     "text": [
      "Janani\n"
     ]
    }
   ],
   "source": [
    "print(\"Janani\")"
   ]
  },
  {
   "cell_type": "code",
   "execution_count": 4,
   "id": "16d71e3f",
   "metadata": {},
   "outputs": [
    {
     "data": {
      "text/plain": [
       "'sT. jOSEPH’S college'"
      ]
     },
     "execution_count": 4,
     "metadata": {},
     "output_type": "execute_result"
    }
   ],
   "source": [
    "s='St. Joseph’s COLLEGE'\n",
    "s.swapcase()"
   ]
  },
  {
   "cell_type": "code",
   "execution_count": 5,
   "id": "3ea1a1c2",
   "metadata": {},
   "outputs": [
    {
     "data": {
      "text/plain": [
       "'Artificial Intelligence'"
      ]
     },
     "execution_count": 5,
     "metadata": {},
     "output_type": "execute_result"
    }
   ],
   "source": [
    "s='Artificial Intelligence****'\n",
    "s.rstrip('*')"
   ]
  },
  {
   "cell_type": "code",
   "execution_count": 6,
   "id": "f95a83bd",
   "metadata": {},
   "outputs": [
    {
     "data": {
      "text/plain": [
       "'west or West is same as west but not West but West is west'"
      ]
     },
     "execution_count": 6,
     "metadata": {},
     "output_type": "execute_result"
    }
   ],
   "source": [
    "s=\"East or West is same as East but not West but West is East\"\n",
    "s.replace(\"East\",\"west\")"
   ]
  },
  {
   "cell_type": "code",
   "execution_count": 8,
   "id": "9b1f45e1",
   "metadata": {},
   "outputs": [
    {
     "name": "stdout",
     "output_type": "stream",
     "text": [
      "000000Romeo and Juliet\n"
     ]
    }
   ],
   "source": [
    "s='Romeo and Juliet'\n",
    "mystr= '000000'+s\n",
    "print(mystr)"
   ]
  },
  {
   "cell_type": "code",
   "execution_count": 17,
   "id": "1762787c",
   "metadata": {},
   "outputs": [
    {
     "name": "stdout",
     "output_type": "stream",
     "text": [
      "9\n"
     ]
    }
   ],
   "source": [
    "s='Jack and Jill went upto Hill'\n",
    "print(s.index('Jill',0,len(s)))"
   ]
  },
  {
   "cell_type": "code",
   "execution_count": 22,
   "id": "4b42389e",
   "metadata": {},
   "outputs": [
    {
     "name": "stdout",
     "output_type": "stream",
     "text": [
      "True\n"
     ]
    }
   ],
   "source": [
    "s=U\"4321\"\n",
    "print(s.isdecimal())"
   ]
  },
  {
   "cell_type": "code",
   "execution_count": 27,
   "id": "2260515b",
   "metadata": {},
   "outputs": [
    {
     "data": {
      "text/plain": [
       "True"
      ]
     },
     "execution_count": 27,
     "metadata": {},
     "output_type": "execute_result"
    }
   ],
   "source": [
    "s=\"selfish people\"\n",
    "'people' in s"
   ]
  },
  {
   "cell_type": "code",
   "execution_count": 28,
   "id": "95dbf8db",
   "metadata": {},
   "outputs": [
    {
     "data": {
      "text/plain": [
       "False"
      ]
     },
     "execution_count": 28,
     "metadata": {},
     "output_type": "execute_result"
    }
   ],
   "source": [
    "s='COBOL is a Business Language'\n",
    "s.islower()"
   ]
  },
  {
   "cell_type": "code",
   "execution_count": 31,
   "id": "9346bf75",
   "metadata": {},
   "outputs": [
    {
     "data": {
      "text/plain": [
       "['Rajesh', 'Khanna', 'is', 'Hindi', 'Actor']"
      ]
     },
     "execution_count": 31,
     "metadata": {},
     "output_type": "execute_result"
    }
   ],
   "source": [
    "s='Rajesh\\nKhanna\\nis\\nHindi\\nActor'\n",
    "s.splitlines()"
   ]
  },
  {
   "cell_type": "code",
   "execution_count": 33,
   "id": "3e92152b",
   "metadata": {},
   "outputs": [
    {
     "data": {
      "text/plain": [
       "'Jackma Founder Of Alibaba'"
      ]
     },
     "execution_count": 33,
     "metadata": {},
     "output_type": "execute_result"
    }
   ],
   "source": [
    "s=\"jackma founder of alibaba\"\n",
    "s.title()"
   ]
  },
  {
   "cell_type": "code",
   "execution_count": 36,
   "id": "70166d1a",
   "metadata": {},
   "outputs": [
    {
     "data": {
      "text/plain": [
       "'u'"
      ]
     },
     "execution_count": 36,
     "metadata": {},
     "output_type": "execute_result"
    }
   ],
   "source": [
    "s='Jude Nirmal'\n",
    "max(s)"
   ]
  },
  {
   "cell_type": "code",
   "execution_count": 43,
   "id": "11211e28",
   "metadata": {},
   "outputs": [
    {
     "data": {
      "text/plain": [
       "'$$$$Money is Gold'"
      ]
     },
     "execution_count": 43,
     "metadata": {},
     "output_type": "execute_result"
    }
   ],
   "source": [
    "s='Money is Gold'\n",
    "s.rjust(len(s)+4,'$')"
   ]
  },
  {
   "cell_type": "code",
   "execution_count": 44,
   "id": "30f5b97b",
   "metadata": {},
   "outputs": [
    {
     "data": {
      "text/plain": [
       "False"
      ]
     },
     "execution_count": 44,
     "metadata": {},
     "output_type": "execute_result"
    }
   ],
   "source": [
    "s=\"jackma86754\"\n",
    "s.isdecimal()"
   ]
  },
  {
   "cell_type": "code",
   "execution_count": 48,
   "id": "70c3a95f",
   "metadata": {},
   "outputs": [
    {
     "data": {
      "text/plain": [
       "['Pen', 'Drive', 'is', 'a', 'Flash', 'Drive']"
      ]
     },
     "execution_count": 48,
     "metadata": {},
     "output_type": "execute_result"
    }
   ],
   "source": [
    "s='Pen Drive is a Flash Drive'\n",
    "s.split()"
   ]
  },
  {
   "cell_type": "code",
   "execution_count": 50,
   "id": "46792648",
   "metadata": {},
   "outputs": [
    {
     "data": {
      "text/plain": [
       "3"
      ]
     },
     "execution_count": 50,
     "metadata": {},
     "output_type": "execute_result"
    }
   ],
   "source": [
    "s='Dhoni Drinks Desi Items'\n",
    "s.count('D')"
   ]
  },
  {
   "cell_type": "code",
   "execution_count": null,
   "id": "3d8cb3b7",
   "metadata": {},
   "outputs": [
    {
     "name": "stdout",
     "output_type": "stream",
     "text": [
      "String Functions\n",
      "1. swapcase\n",
      "2. title\n",
      "3. zfill\n",
      "4. isdecimal\n",
      "5. islower\n",
      "6. split\n",
      "7. capitalize\n",
      "8. count\n",
      "9. rjust\n",
      "10. rstrip\n",
      "Enter the function number (1-10): 1\n",
      "Enter the string: jANani\n",
      "JanANI\n",
      "Do you want to continue? (yes/no): yes\n",
      "1. swapcase\n",
      "2. title\n",
      "3. zfill\n",
      "4. isdecimal\n",
      "5. islower\n",
      "6. split\n",
      "7. capitalize\n",
      "8. count\n",
      "9. rjust\n",
      "10. rstrip\n"
     ]
    }
   ],
   "source": [
    "def swapcase(input_string):\n",
    "    return input_string.swapcase()\n",
    "\n",
    "def title(input_string):\n",
    "    return input_string.title()\n",
    "\n",
    "def zfill(input_string):\n",
    "    return input_string.zfill()\n",
    "\n",
    "def isdecimal(input_string):\n",
    "    return input_string.isdecimal()\n",
    "\n",
    "def islower(input_string):\n",
    "    return input_string.islower()\n",
    "\n",
    "def split(input_string):\n",
    "    return input_string.split()\n",
    "\n",
    "def capitalize(input_string):\n",
    "    return input_string.capitalize()\n",
    "\n",
    "def count(input_string):\n",
    "    return input_string.count()\n",
    "\n",
    "def rjust(input_string):\n",
    "    return input_string.rjust(len(input_string) + 4, '$')\n",
    "\n",
    "def rstrip(input_string):\n",
    "    return input_string.rstrip()\n",
    "\n",
    "while True:\n",
    "    print(\"String Functions\")\n",
    "    print(\"1. swapcase\")\n",
    "    print(\"2. title\")\n",
    "    print(\"3. zfill\")\n",
    "    print(\"4. isdecimal\")\n",
    "    print(\"5. islower\")\n",
    "    print(\"6. split\")\n",
    "    print(\"7. capitalize\")\n",
    "    print(\"8. count\")\n",
    "    print(\"9. rjust\")\n",
    "    print(\"10. rstrip\")\n",
    "\n",
    "    choice = int(input(\"Enter the function number (1-10): \"))\n",
    "    input_string = input(\"Enter the string: \")\n",
    "\n",
    "    if choice == 1:\n",
    "        print(swapcase(input_string))\n",
    "    elif choice == 2:\n",
    "        print(title(input_string))\n",
    "    elif choice == 3:\n",
    "        print(zfill(input_string))\n",
    "    elif choice == 4:\n",
    "        print(isdecimal(input_string))\n",
    "    elif choice == 5:\n",
    "        print(islower(input_string))\n",
    "    elif choice == 6:\n",
    "        print(split(input_string))\n",
    "    elif choice == 7:\n",
    "        print(capitalize(input_string))\n",
    "    elif choice == 8:\n",
    "        print(count(input_string))\n",
    "    elif choice == 9:\n",
    "        print(rjust(input_string))\n",
    "    elif choice == 10:\n",
    "        print(rstrip(input_string))\n",
    "    else:\n",
    "        print(\"Invalid choice. Please enter a number between 1 and 10.\")\n",
    "\n",
    "    continue_program = input(\"Do you want to continue? (yes/no): \")\n",
    "    if continue_program.lower() != 'yes':\n",
    "        break\n"
   ]
  },
  {
   "cell_type": "code",
   "execution_count": null,
   "id": "67a53799",
   "metadata": {},
   "outputs": [],
   "source": []
  }
 ],
 "metadata": {
  "kernelspec": {
   "display_name": "Python 3 (ipykernel)",
   "language": "python",
   "name": "python3"
  },
  "language_info": {
   "codemirror_mode": {
    "name": "ipython",
    "version": 3
   },
   "file_extension": ".py",
   "mimetype": "text/x-python",
   "name": "python",
   "nbconvert_exporter": "python",
   "pygments_lexer": "ipython3",
   "version": "3.11.5"
  }
 },
 "nbformat": 4,
 "nbformat_minor": 5
}
