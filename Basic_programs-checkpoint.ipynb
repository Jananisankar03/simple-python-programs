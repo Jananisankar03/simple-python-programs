{
 "cells": [
  {
   "cell_type": "code",
   "execution_count": 1,
   "id": "45496771",
   "metadata": {},
   "outputs": [
    {
     "name": "stdout",
     "output_type": "stream",
     "text": [
      "<class 'float'>\n"
     ]
    }
   ],
   "source": [
    "val=5.17\n",
    "print(type(val))"
   ]
  },
  {
   "cell_type": "code",
   "execution_count": 2,
   "id": "21d99141",
   "metadata": {},
   "outputs": [
    {
     "name": "stdout",
     "output_type": "stream",
     "text": [
      "Enter a number: 45\n",
      "Input is less than 60.\n"
     ]
    }
   ],
   "source": [
    "input_value=int(input(\"Enter a number: \"))\n",
    "if input_value<60:\n",
    "    print(\"Input is less than 60.\")\n",
    "elif input_value>60:\n",
    "    print(\"Input is greater than 60.\")\n",
    "else:\n",
    "    print(\"Input is equal to 60.\")"
   ]
  },
  {
   "cell_type": "code",
   "execution_count": 3,
   "id": "623be29b",
   "metadata": {},
   "outputs": [
    {
     "name": "stdout",
     "output_type": "stream",
     "text": [
      "2\n",
      "4\n",
      "6\n",
      "8\n",
      "10\n",
      "12\n",
      "14\n",
      "16\n",
      "18\n",
      "20\n"
     ]
    }
   ],
   "source": [
    "num=0\n",
    "for n in range(2,51,2):\n",
    "    if num<10:\n",
    "        print(n)\n",
    "        num+=1\n",
    "    else:\n",
    "        break"
   ]
  },
  {
   "cell_type": "code",
   "execution_count": 4,
   "id": "448687db",
   "metadata": {},
   "outputs": [
    {
     "name": "stdout",
     "output_type": "stream",
     "text": [
      "x1= 50\n",
      "y1= 50\n",
      "z1= 50\n",
      "w1= 50\n"
     ]
    }
   ],
   "source": [
    "x1=y1=z1=w1=50\n",
    "print(\"x1=\",x1)\n",
    "print(\"y1=\",y1)\n",
    "print(\"z1=\",z1)\n",
    "print(\"w1=\",w1)"
   ]
  },
  {
   "cell_type": "code",
   "execution_count": 6,
   "id": "ac2058c9",
   "metadata": {},
   "outputs": [
    {
     "name": "stdout",
     "output_type": "stream",
     "text": [
      "Enter a number:8\n",
      "8 is divisible by 2.\n"
     ]
    }
   ],
   "source": [
    "num=int(input(\"Enter a number:\"))\n",
    "if num%2==0:\n",
    "    print(num,\"is divisible by 2.\")\n",
    "elif num%3==0:\n",
    "    print(num,\"is divisible by 3.\")\n",
    "else:\n",
    "    print(num,\"is not divisible by 2 or 3.\")"
   ]
  },
  {
   "cell_type": "code",
   "execution_count": 7,
   "id": "7624e060",
   "metadata": {},
   "outputs": [
    {
     "name": "stdout",
     "output_type": "stream",
     "text": [
      "Enter the principal amount:30000\n",
      "Enter the interest rate(pa):400\n",
      "Enter the time(in years):4\n",
      "Simple Interest 480000.0\n"
     ]
    }
   ],
   "source": [
    "def simple_interest(principal,rate,time):\n",
    "    interest=(principal*rate*time)/100\n",
    "    print(\"Simple Interest\",interest)\n",
    "principal=float(input(\"Enter the principal amount:\"))\n",
    "interest=float(input(\"Enter the interest rate(pa):\"))\n",
    "time=float(input(\"Enter the time(in years):\"))\n",
    "simple_interest(principal,interest,time)"
   ]
  },
  {
   "cell_type": "code",
   "execution_count": 8,
   "id": "b92835e6",
   "metadata": {},
   "outputs": [
    {
     "name": "stdout",
     "output_type": "stream",
     "text": [
      "String Value: Hello\n",
      "Integer Value: 50\n",
      "Float Value: 4.15\n"
     ]
    }
   ],
   "source": [
    "str_value,int_value,float_value=\"Hello\",50,4.15\n",
    "print(\"String Value:\",str_value)\n",
    "print(\"Integer Value:\",int_value)\n",
    "print(\"Float Value:\",float_value)"
   ]
  },
  {
   "cell_type": "code",
   "execution_count": 9,
   "id": "547f4f6c",
   "metadata": {},
   "outputs": [
    {
     "name": "stdout",
     "output_type": "stream",
     "text": [
      "Enter a value:60\n",
      "Very Good\n"
     ]
    }
   ],
   "source": [
    "val=int(input(\"Enter a value:\"))\n",
    "if val<=40:\n",
    "    print(\"Average\")\n",
    "elif 40<val<=50:\n",
    "    print(\"Good\")\n",
    "else:\n",
    "    print(\"Very Good\")"
   ]
  },
  {
   "cell_type": "code",
   "execution_count": 11,
   "id": "5ca4ca32",
   "metadata": {},
   "outputs": [
    {
     "name": "stdout",
     "output_type": "stream",
     "text": [
      "Enter a number:5\n",
      "The factorial of5is:120\n"
     ]
    }
   ],
   "source": [
    "def factorial(num):\n",
    "    fact=1\n",
    "    for i in range(1,num+1):\n",
    "        fact*=i\n",
    "    print(f\"The factorial of{num}is:{fact}\")\n",
    "input_value=int(input(\"Enter a number:\"))\n",
    "factorial(input_value)"
   ]
  },
  {
   "cell_type": "code",
   "execution_count": 12,
   "id": "68ae74b6",
   "metadata": {},
   "outputs": [
    {
     "ename": "NameError",
     "evalue": "name 'z' is not defined",
     "output_type": "error",
     "traceback": [
      "\u001b[1;31m---------------------------------------------------------------------------\u001b[0m",
      "\u001b[1;31mNameError\u001b[0m                                 Traceback (most recent call last)",
      "Cell \u001b[1;32mIn[12], line 3\u001b[0m\n\u001b[0;32m      1\u001b[0m z\u001b[38;5;241m=\u001b[39m\u001b[38;5;241m50\u001b[39m\n\u001b[0;32m      2\u001b[0m \u001b[38;5;28;01mdel\u001b[39;00m z\n\u001b[1;32m----> 3\u001b[0m \u001b[38;5;28mprint\u001b[39m(z)\n",
      "\u001b[1;31mNameError\u001b[0m: name 'z' is not defined"
     ]
    }
   ],
   "source": [
    "z=50\n",
    "del z\n",
    "print(z)"
   ]
  },
  {
   "cell_type": "code",
   "execution_count": 13,
   "id": "f5c53b34",
   "metadata": {},
   "outputs": [
    {
     "name": "stdout",
     "output_type": "stream",
     "text": [
      "Enter the number #1: 6\n",
      "Enter the number #2: 5\n",
      "Enter the number #3: 8\n",
      "The biggest number is: 8\n"
     ]
    }
   ],
   "source": [
    "num1=int(input(\"Enter the number #1: \"))\n",
    "num2=int(input(\"Enter the number #2: \"))\n",
    "num3=int(input(\"Enter the number #3: \"))\n",
    "biggest_num=max(num1,num2,num3)\n",
    "print(\"The biggest number is:\", biggest_num)"
   ]
  },
  {
   "cell_type": "code",
   "execution_count": 14,
   "id": "91454078",
   "metadata": {},
   "outputs": [
    {
     "name": "stdout",
     "output_type": "stream",
     "text": [
      "Enter a number to find sum of series:5\n",
      "Sum of series:  15\n"
     ]
    }
   ],
   "source": [
    "num=int(input(\"Enter a number to find sum of series:\"))\n",
    "sum1=0\n",
    "current_num=1\n",
    "while current_num<=num:\n",
    "    sum1+=current_num\n",
    "    current_num+=1\n",
    "print(\"Sum of series: \",sum1)"
   ]
  },
  {
   "cell_type": "code",
   "execution_count": null,
   "id": "ea353998",
   "metadata": {},
   "outputs": [],
   "source": []
  }
 ],
 "metadata": {
  "kernelspec": {
   "display_name": "Python 3 (ipykernel)",
   "language": "python",
   "name": "python3"
  },
  "language_info": {
   "codemirror_mode": {
    "name": "ipython",
    "version": 3
   },
   "file_extension": ".py",
   "mimetype": "text/x-python",
   "name": "python",
   "nbconvert_exporter": "python",
   "pygments_lexer": "ipython3",
   "version": "3.11.5"
  }
 },
 "nbformat": 4,
 "nbformat_minor": 5
}
